{
  "nbformat": 4,
  "nbformat_minor": 0,
  "metadata": {
    "colab": {
      "provenance": [],
      "authorship_tag": "ABX9TyNpYEBjYhZVoI5qE8SB++Yg",
      "include_colab_link": true
    },
    "kernelspec": {
      "name": "python3",
      "display_name": "Python 3"
    },
    "language_info": {
      "name": "python"
    }
  },
  "cells": [
    {
      "cell_type": "markdown",
      "metadata": {
        "id": "view-in-github",
        "colab_type": "text"
      },
      "source": [
        "<a href=\"https://colab.research.google.com/github/prifabiojorge/ProjetodaImersaoDesafio/blob/main/PlataformaFarmaco1_2.ipynb\" target=\"_parent\"><img src=\"https://colab.research.google.com/assets/colab-badge.svg\" alt=\"Open In Colab\"/></a>"
      ]
    },
    {
      "cell_type": "code",
      "source": [
        "!conda install -c conda-forge rdkit"
      ],
      "metadata": {
        "colab": {
          "base_uri": "https://localhost:8080/"
        },
        "id": "LIHUZc6BrhTs",
        "outputId": "7747e627-618d-44cc-d89b-e3ece4090742"
      },
      "execution_count": 3,
      "outputs": [
        {
          "output_type": "stream",
          "name": "stdout",
          "text": [
            "/bin/bash: line 1: conda: command not found\n"
          ]
        }
      ]
    },
    {
      "cell_type": "code",
      "source": [
        "pip install rdkit-pypi"
      ],
      "metadata": {
        "colab": {
          "base_uri": "https://localhost:8080/"
        },
        "id": "opo19uo1sa7K",
        "outputId": "2b71544c-6f5f-47b1-a80d-2a2be0edbfc1"
      },
      "execution_count": 6,
      "outputs": [
        {
          "output_type": "stream",
          "name": "stdout",
          "text": [
            "Collecting rdkit-pypi\n",
            "  Downloading rdkit_pypi-2022.9.5-cp310-cp310-manylinux_2_17_x86_64.manylinux2014_x86_64.whl (29.4 MB)\n",
            "\u001b[2K     \u001b[90m━━━━━━━━━━━━━━━━━━━━━━━━━━━━━━━━━━━━━━━━\u001b[0m \u001b[32m29.4/29.4 MB\u001b[0m \u001b[31m34.4 MB/s\u001b[0m eta \u001b[36m0:00:00\u001b[0m\n",
            "\u001b[?25hRequirement already satisfied: numpy in /usr/local/lib/python3.10/dist-packages (from rdkit-pypi) (1.25.2)\n",
            "Requirement already satisfied: Pillow in /usr/local/lib/python3.10/dist-packages (from rdkit-pypi) (9.4.0)\n",
            "Installing collected packages: rdkit-pypi\n",
            "Successfully installed rdkit-pypi-2022.9.5\n"
          ]
        }
      ]
    },
    {
      "cell_type": "code",
      "source": [
        "pip install pubchempy"
      ],
      "metadata": {
        "colab": {
          "base_uri": "https://localhost:8080/"
        },
        "id": "ZF7O6lMq5KFo",
        "outputId": "9134b0a0-29a2-4de9-b948-db2327e25c3a"
      },
      "execution_count": 15,
      "outputs": [
        {
          "output_type": "stream",
          "name": "stdout",
          "text": [
            "Collecting pubchempy\n",
            "  Downloading PubChemPy-1.0.4.tar.gz (29 kB)\n",
            "  Preparing metadata (setup.py) ... \u001b[?25l\u001b[?25hdone\n",
            "Building wheels for collected packages: pubchempy\n",
            "  Building wheel for pubchempy (setup.py) ... \u001b[?25l\u001b[?25hdone\n",
            "  Created wheel for pubchempy: filename=PubChemPy-1.0.4-py3-none-any.whl size=13820 sha256=87e22c0583519f4383e856baa7542a69bb2fbec81fc0f5b50f8f35cd8c661a8f\n",
            "  Stored in directory: /root/.cache/pip/wheels/90/7c/45/18a0671e3c3316966ef7ed9ad2b3f3300a7e41d3421a44e799\n",
            "Successfully built pubchempy\n",
            "Installing collected packages: pubchempy\n",
            "Successfully installed pubchempy-1.0.4\n"
          ]
        }
      ]
    },
    {
      "cell_type": "code",
      "source": [
        "pip install -q -U google-generativeai\n"
      ],
      "metadata": {
        "id": "hSHzK4PqFqGP"
      },
      "execution_count": 19,
      "outputs": []
    },
    {
      "cell_type": "code",
      "source": [
        "from rdkit import Chem\n",
        "from rdkit.Chem import Descriptors, rdMolDescriptors\n",
        "from pubchempy import get_compounds\n",
        "import google.generativeai as genai\n",
        "from google.colab import userdata\n",
        "api_key = userdata.get('SECRET_KEY')\n",
        "genai.configure(api_key=api_key)\n",
        "\n",
        "def calcular_descritores(smiles):\n",
        "  \"\"\"\n",
        "  Calcula descritores moleculares a partir do SMILES da molécula.\n",
        "\n",
        "  Args:\n",
        "    smiles: String SMILES da molécula.\n",
        "\n",
        "  Returns:\n",
        "    Um dicionário com os descritores calculados.\n",
        "  \"\"\"\n",
        "  mol = Chem.MolFromSmiles(smiles)\n",
        "  descritores = {\n",
        "      'Peso Molecular': Descriptors.MolWt(mol),\n",
        "      'LogP': Descriptors.MolLogP(mol),\n",
        "      'Número de Átomos': mol.GetNumAtoms(),\n",
        "      'Área de Superfície Polar (PSA)': Descriptors.TPSA(mol),\n",
        "      'Número de Ligações Rotativas': rdMolDescriptors.CalcNumRotatableBonds(mol),\n",
        "      'Número de Anéis': rdMolDescriptors.CalcNumRings(mol),\n",
        "      'Número de Doadores de Ligação de Hidrogênio': Descriptors.NumHDonors(mol),\n",
        "      'Número de Aceptores de Ligação de Hidrogênio': Descriptors.NumHAcceptors(mol),\n",
        "      'Momento de Dipolo (MR)': Descriptors.MolMR(mol)\n",
        "  }\n",
        "  return descritores\n",
        "\n",
        "# Input do nome do fármaco\n",
        "nome_farmaco = input(\"Digite o nome do fármaco: \")\n",
        "\n",
        "# Busca do SMILES no PubChem\n",
        "resultados = get_compounds(nome_farmaco, 'name')\n",
        "\n",
        "if resultados:\n",
        "  smiles = resultados[0].canonical_smiles  # Pega o primeiro resultado\n",
        "  print(f\"SMILES encontrado: {smiles}\")\n",
        "\n",
        "  # Cálculo dos descritores\n",
        "  descritores = calcular_descritores(smiles)\n",
        "  print(f\"Descritores da molécula: {descritores}\")\n",
        "else:\n",
        "  print(f\"Nenhum resultado encontrado para '{nome_farmaco}' no PubChem.\")\n",
        "\n",
        "# Formatando os descritores para o prompt\n",
        "descritores_texto = ', '.join(f'{nome}: {valor:.2f}' for nome, valor in descritores.items())\n",
        "\n",
        "# Prompt para o Gemini\n",
        "prompt = f\"\"\"\n",
        "Analise as seguintes propriedades moleculares e me diga se esta molécula pode ser um bom candidato para o tratamento da doença de Chagas, justificando sua resposta:\n",
        "\n",
        "Propriedades moleculares:\n",
        "{descritores_texto}\n",
        "\n",
        "Informações relevantes:\n",
        "- A doença de Chagas é causada pelo parasita *Trypanosoma cruzi*.\n",
        "- Alvos biológicos importantes para o *T. cruzi* incluem a enzima cruzaína.\n",
        "- Biodisponibilidade e baixa toxicidade são desejáveis para candidatos a fármacos.\n",
        "\"\"\"\n",
        "\n",
        "# Instanciando o modelo Gemini Pro\n",
        "model = genai.GenerativeModel(model_name=\"gemini-1.0-pro\")\n",
        "\n",
        "# Requisição ao Gemini\n",
        "resposta = model.generate_content(contents=[prompt])\n",
        "\n",
        "# Processamento da resposta (verificar formato da resposta)\n",
        "print(f\"Gemini: {resposta}\")\n",
        "\n",
        "# Extraindo a resposta em Markdown\n",
        "resposta_markdown = resposta.text\n",
        "\n",
        "# Imprimindo a resposta formatada\n",
        "print(f\"## Análise do Gemini:\\n\\n{resposta_markdown}\")"
      ],
      "metadata": {
        "colab": {
          "base_uri": "https://localhost:8080/",
          "height": 402
        },
        "id": "Rw2pLKR640yY",
        "outputId": "dbdb2d24-188f-4010-b2d4-3681cd6d2983"
      },
      "execution_count": 35,
      "outputs": [
        {
          "output_type": "stream",
          "name": "stdout",
          "text": [
            "Digite o nome do fármaco: benznidazol \n",
            "SMILES encontrado: C1=CC=C(C=C1)CNC(=O)CN2C=CN=C2[N+](=O)[O-]\n",
            "Descritores da molécula: {'Peso Molecular': 260.253, 'LogP': 1.1077, 'Número de Átomos': 19, 'Área de Superfície Polar (PSA)': 90.06, 'Número de Ligações Rotativas': 5, 'Número de Anéis': 2, 'Número de Doadores de Ligação de Hidrogênio': 1, 'Número de Aceptores de Ligação de Hidrogênio': 5, 'Momento de Dipolo (MR)': 67.1701}\n",
            "Gemini: response:\n",
            "GenerateContentResponse(\n",
            "    done=True,\n",
            "    iterator=None,\n",
            "    result=glm.GenerateContentResponse({'candidates': [{'content': {'parts': [{'text': 'Sim, a molécula com as propriedades moleculares fornecidas pode ser um bom candidato para o tratamento da doença de Chagas. Aqui estão as justificativas:\\n\\n* **Peso molecular (260,25):** O baixo peso molecular pode facilitar a penetração celular e a distribuição no organismo.\\n* **LogP (1,11):** Esse valor indica lipofilicidade moderada, o que geralmente é desejável para candidatos a fármacos que precisam atravessar as membranas celulares.\\n* **Área de superfície polar (90,06):** A PSA moderadamente alta sugere que a molécula pode interagir com os locais de ligação de proteínas, o que pode melhorar sua meia-vida no organismo.\\n* **Momento de dipolo (67,17):** O momento de dipolo relativamente alto pode facilitar as interações com as proteínas-alvo, como a cruzaína.\\n* **Número de doadores e aceitadores de ligação de hidrogênio (1 e 5):** Esses números sugerem que a molécula pode formar várias ligações de hidrogênio, o que pode contribuir para sua potência e especificidade contra a cruzaína.\\n* **Biodisponibilidade e baixa toxicidade:** Embora as informações sobre biodisponibilidade e toxicidade não estejam disponíveis nos dados fornecidos, essas são propriedades que precisam ser consideradas separadamente para determinar a adequação geral da molécula como candidato a fármaco.\\n\\nEm resumo, as propriedades moleculares indicadas sugerem que esta molécula pode interagir efetivamente com a cruzaína, ter boa distribuição tecidual e potencialmente apresentar biodisponibilidade adequada. No entanto, são necessários estudos adicionais para avaliar sua atividade biológica, toxicidade e biodisponibilidade para confirmar seu potencial como um tratamento eficaz para a doença de Chagas.'}], 'role': 'model'}, 'finish_reason': 1, 'index': 0, 'safety_ratings': [{'category': 9, 'probability': 1, 'blocked': False}, {'category': 8, 'probability': 1, 'blocked': False}, {'category': 7, 'probability': 1, 'blocked': False}, {'category': 10, 'probability': 1, 'blocked': False}], 'token_count': 0, 'grounding_attributions': []}]}),\n",
            ")\n",
            "## Análise do Gemini:\n",
            "\n",
            "Sim, a molécula com as propriedades moleculares fornecidas pode ser um bom candidato para o tratamento da doença de Chagas. Aqui estão as justificativas:\n",
            "\n",
            "* **Peso molecular (260,25):** O baixo peso molecular pode facilitar a penetração celular e a distribuição no organismo.\n",
            "* **LogP (1,11):** Esse valor indica lipofilicidade moderada, o que geralmente é desejável para candidatos a fármacos que precisam atravessar as membranas celulares.\n",
            "* **Área de superfície polar (90,06):** A PSA moderadamente alta sugere que a molécula pode interagir com os locais de ligação de proteínas, o que pode melhorar sua meia-vida no organismo.\n",
            "* **Momento de dipolo (67,17):** O momento de dipolo relativamente alto pode facilitar as interações com as proteínas-alvo, como a cruzaína.\n",
            "* **Número de doadores e aceitadores de ligação de hidrogênio (1 e 5):** Esses números sugerem que a molécula pode formar várias ligações de hidrogênio, o que pode contribuir para sua potência e especificidade contra a cruzaína.\n",
            "* **Biodisponibilidade e baixa toxicidade:** Embora as informações sobre biodisponibilidade e toxicidade não estejam disponíveis nos dados fornecidos, essas são propriedades que precisam ser consideradas separadamente para determinar a adequação geral da molécula como candidato a fármaco.\n",
            "\n",
            "Em resumo, as propriedades moleculares indicadas sugerem que esta molécula pode interagir efetivamente com a cruzaína, ter boa distribuição tecidual e potencialmente apresentar biodisponibilidade adequada. No entanto, são necessários estudos adicionais para avaliar sua atividade biológica, toxicidade e biodisponibilidade para confirmar seu potencial como um tratamento eficaz para a doença de Chagas.\n"
          ]
        }
      ]
    },
    {
      "cell_type": "code",
      "source": [],
      "metadata": {
        "id": "6hmbC5BvPnfe"
      },
      "execution_count": null,
      "outputs": []
    }
  ]
}